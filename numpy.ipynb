{
  "nbformat": 4,
  "nbformat_minor": 0,
  "metadata": {
    "colab": {
      "provenance": [],
      "authorship_tag": "ABX9TyOIGLHrAOcz/d7xmixGh4Dr",
      "include_colab_link": true
    },
    "kernelspec": {
      "name": "python3",
      "display_name": "Python 3"
    },
    "language_info": {
      "name": "python"
    }
  },
  "cells": [
    {
      "cell_type": "markdown",
      "metadata": {
        "id": "view-in-github",
        "colab_type": "text"
      },
      "source": [
        "<a href=\"https://colab.research.google.com/github/l0norm/model/blob/main/numpy.ipynb\" target=\"_parent\"><img src=\"https://colab.research.google.com/assets/colab-badge.svg\" alt=\"Open In Colab\"/></a>"
      ]
    },
    {
      "cell_type": "markdown",
      "source": [
        "# numpy\n",
        "\n",
        "-numpy = numeric python\n",
        "-it has to be the same type"
      ],
      "metadata": {
        "id": "2jnn7zRXEVRg"
      }
    },
    {
      "cell_type": "code",
      "execution_count": 1,
      "metadata": {
        "colab": {
          "base_uri": "https://localhost:8080/"
        },
        "id": "iL-kFNGMDLO3",
        "outputId": "2429e4c2-9433-4cbf-a3c8-165647c6f9bd"
      },
      "outputs": [
        {
          "output_type": "stream",
          "name": "stdout",
          "text": [
            "[0 1 2 3 4]\n"
          ]
        }
      ],
      "source": [
        "import numpy as np\n",
        "\n",
        "np1 = np.array([0,1,2,3,4])\n",
        "print(np1)\n",
        "print(np1.shape)"
      ]
    },
    {
      "cell_type": "code",
      "source": [
        "np2 = np.arange(10)\n",
        "print(np2)\n",
        "\n",
        "np3 = np.arange(0,10,2) #from 0 to 10 with step 2\n",
        "print(np3)\n",
        "\n",
        "np4 = np.zeros(10)\n",
        "print(np4)\n",
        "\n",
        "np5 = np.full((10),6)\n",
        "print(np5)"
      ],
      "metadata": {
        "colab": {
          "base_uri": "https://localhost:8080/"
        },
        "id": "iRDTSBqcFGXR",
        "outputId": "195d7cb2-520e-4687-91a8-30e05a0db4ce"
      },
      "execution_count": 6,
      "outputs": [
        {
          "output_type": "stream",
          "name": "stdout",
          "text": [
            "[0 1 2 3 4 5 6 7 8 9]\n",
            "[0 2 4 6 8]\n",
            "[0. 0. 0. 0. 0. 0. 0. 0. 0. 0.]\n",
            "[6 6 6 6 6 6 6 6 6 6]\n"
          ]
        }
      ]
    },
    {
      "cell_type": "markdown",
      "source": [
        "# MULTIDIMENSION"
      ],
      "metadata": {
        "id": "tQvz8N_6GMLJ"
      }
    },
    {
      "cell_type": "code",
      "source": [
        "np6 = np.ones((2,10))\n",
        "print(np6)\n",
        "\n",
        "np7 = np.full(((3),5),3)\n",
        "print(np7)"
      ],
      "metadata": {
        "colab": {
          "base_uri": "https://localhost:8080/"
        },
        "id": "C1TSOaNbGQEE",
        "outputId": "ef74ffc3-2bb5-4069-9365-a0a27602e8aa"
      },
      "execution_count": 7,
      "outputs": [
        {
          "output_type": "stream",
          "name": "stdout",
          "text": [
            "[6 6 6 6 6 6 6 6 6 6]\n",
            "[[3 3 3 3 3]\n",
            " [3 3 3 3 3]\n",
            " [3 3 3 3 3]\n",
            " [3 3 3 3 3]\n",
            " [3 3 3 3 3]\n",
            " [3 3 3 3 3]\n",
            " [3 3 3 3 3]\n",
            " [3 3 3 3 3]\n",
            " [3 3 3 3 3]\n",
            " [3 3 3 3 3]]\n"
          ]
        }
      ]
    },
    {
      "cell_type": "markdown",
      "source": [
        "# converting list to numpy"
      ],
      "metadata": {
        "id": "ikwQkDCOHiUQ"
      }
    },
    {
      "cell_type": "code",
      "source": [
        "my_list = [1,2,3,4,5]\n",
        "np8 = np.array(my_list)\n",
        "print(np8)\n",
        "print(np8[2])"
      ],
      "metadata": {
        "colab": {
          "base_uri": "https://localhost:8080/"
        },
        "id": "ezbPl1JZHliS",
        "outputId": "866d90bd-9de2-4f7b-9196-652dd856a0e8"
      },
      "execution_count": 9,
      "outputs": [
        {
          "output_type": "stream",
          "name": "stdout",
          "text": [
            "[1 2 3 4 5]\n",
            "3\n"
          ]
        }
      ]
    },
    {
      "cell_type": "markdown",
      "source": [
        "# SLICING NUMPY ARRAYS"
      ],
      "metadata": {
        "id": "TfohvbvTIJFZ"
      }
    },
    {
      "cell_type": "code",
      "source": [
        "npSlice  = np.array([1,2,3,4,5,6,7,8,9])\n",
        "print(npSlice[1:5]) #slices\n",
        "print(npSlice[1:6:2]) #1 to 6 in steps of two\n",
        "\n",
        "print(npSlice[::2])  # in steps of 2\n",
        "print(npSlice[::3])\n",
        "\n",
        "print(npSlice[1:])\n",
        "print(npSlice[-4:-2])  #negative slices\n",
        "\n",
        "# ============================================slicing multidimensional array\n",
        "print(\"=========================================\")\n",
        "npM = np.array([\n",
        "    [1,2,3,4,5],\n",
        "    [6,7,8,9,10]])\n",
        "print(npM[0:1 , 1:3])      #from 0 to 1 rows , from first to third element\n"
      ],
      "metadata": {
        "colab": {
          "base_uri": "https://localhost:8080/"
        },
        "id": "NUc2pymkINdu",
        "outputId": "188aba02-dfd0-4aa8-da17-2f8b7630f6fa"
      },
      "execution_count": 17,
      "outputs": [
        {
          "output_type": "stream",
          "name": "stdout",
          "text": [
            "[2 3 4 5]\n",
            "[2 4 6]\n",
            "[1 3 5 7 9]\n",
            "[1 4 7]\n",
            "[2 3 4 5 6 7 8 9]\n",
            "[6 7]\n",
            "=========================================\n",
            "[[2 3]]\n"
          ]
        }
      ]
    },
    {
      "cell_type": "markdown",
      "source": [
        "## Universal functions"
      ],
      "metadata": {
        "id": "dBTFzBiZNANC"
      }
    },
    {
      "cell_type": "code",
      "source": [
        "np1 = np.array([-3,-2,-1,0,1,2,3,4,5,6,7,8,9])\n",
        "\n",
        "print(np.sqrt(np1))         #square root of each element\n",
        "print(np.absolute(np1))     #absoulte values\n",
        "print(np.exp(np1))          #exponentials\n",
        "\n",
        "print(np.max(np1))\n",
        "print(np.min(np1))\n",
        "\n",
        "print(np.sign(np1))       #returns sign of each element\n",
        "print(np.sin(np1))        #Trig , sin , cos , log\n",
        "\n"
      ],
      "metadata": {
        "colab": {
          "base_uri": "https://localhost:8080/"
        },
        "id": "cw3CDPrjNEkM",
        "outputId": "d27727e7-1675-43d6-f451-205597bf5f07"
      },
      "execution_count": 20,
      "outputs": [
        {
          "output_type": "stream",
          "name": "stdout",
          "text": [
            "[       nan        nan        nan 0.         1.         1.41421356\n",
            " 1.73205081 2.         2.23606798 2.44948974 2.64575131 2.82842712\n",
            " 3.        ]\n",
            "[3 2 1 0 1 2 3 4 5 6 7 8 9]\n",
            "[4.97870684e-02 1.35335283e-01 3.67879441e-01 1.00000000e+00\n",
            " 2.71828183e+00 7.38905610e+00 2.00855369e+01 5.45981500e+01\n",
            " 1.48413159e+02 4.03428793e+02 1.09663316e+03 2.98095799e+03\n",
            " 8.10308393e+03]\n"
          ]
        },
        {
          "output_type": "stream",
          "name": "stderr",
          "text": [
            "<ipython-input-20-158a73700903>:3: RuntimeWarning: invalid value encountered in sqrt\n",
            "  print(np.sqrt(np1))         #square root of each element\n"
          ]
        }
      ]
    },
    {
      "cell_type": "markdown",
      "source": [
        "# Copy vs view\n",
        "\n",
        "\n",
        "*  the view changes the original\n",
        "*   copy doesnt change the original\n",
        "\n",
        "\n",
        "\n",
        "\n"
      ],
      "metadata": {
        "id": "-CE5H1BHO26_"
      }
    },
    {
      "cell_type": "code",
      "source": [
        "np1 = np.array([0,1,2,3,4,5])\n",
        "\n",
        "np2 = np1.view()\n",
        "\n",
        "np2[0] = 5\n",
        "print(f'original np1{np1}')\n",
        "print(f'original np2{np2}')\n",
        "\n",
        "np2 = np1.copy()\n",
        "np2[2] = 1\n",
        "print(np2)\n"
      ],
      "metadata": {
        "colab": {
          "base_uri": "https://localhost:8080/"
        },
        "id": "VEiIPWKpO6J1",
        "outputId": "9c541834-79e3-4f9f-93c2-b177c36df79e"
      },
      "execution_count": 23,
      "outputs": [
        {
          "output_type": "stream",
          "name": "stdout",
          "text": [
            "original np1[5 1 2 3 4 5]\n",
            "original np2[5 1 2 3 4 5]\n",
            "[5 1 1 3 4 5]\n"
          ]
        }
      ]
    },
    {
      "cell_type": "markdown",
      "source": [],
      "metadata": {
        "id": "KE72ySFeQaTc"
      }
    }
  ]
}