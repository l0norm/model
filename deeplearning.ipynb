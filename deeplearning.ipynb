{
  "nbformat": 4,
  "nbformat_minor": 0,
  "metadata": {
    "colab": {
      "provenance": [],
      "gpuType": "V28",
      "authorship_tag": "ABX9TyNKmCrrAi1Q+rpq8cXGbzkW",
      "include_colab_link": true
    },
    "kernelspec": {
      "name": "python3",
      "display_name": "Python 3"
    },
    "language_info": {
      "name": "python"
    },
    "accelerator": "TPU"
  },
  "cells": [
    {
      "cell_type": "markdown",
      "metadata": {
        "id": "view-in-github",
        "colab_type": "text"
      },
      "source": [
        "<a href=\"https://colab.research.google.com/github/l0norm/model/blob/main/deeplearning.ipynb\" target=\"_parent\"><img src=\"https://colab.research.google.com/assets/colab-badge.svg\" alt=\"Open In Colab\"/></a>"
      ]
    },
    {
      "cell_type": "code",
      "execution_count": null,
      "metadata": {
        "colab": {
          "base_uri": "https://localhost:8080/"
        },
        "id": "jjHRYBOq-5Bn",
        "outputId": "a69fb4b5-7da9-4f00-fa0a-aa74f1107d3f"
      },
      "outputs": [
        {
          "output_type": "execute_result",
          "data": {
            "text/plain": [
              "4"
            ]
          },
          "metadata": {},
          "execution_count": 1
        }
      ],
      "source": [
        "2+2\n"
      ]
    },
    {
      "cell_type": "code",
      "source": [
        "import torch\n",
        "import numpy as np"
      ],
      "metadata": {
        "id": "jSlKqO48_drP"
      },
      "execution_count": null,
      "outputs": []
    },
    {
      "cell_type": "markdown",
      "source": [
        "# NUMPY\n",
        "\n",
        "the default type is float64"
      ],
      "metadata": {
        "id": "jLY6F2tcXkeG"
      }
    },
    {
      "cell_type": "code",
      "source": [
        "np1 = np.random.rand(2,3,4)\n",
        "print(np1)\n"
      ],
      "metadata": {
        "colab": {
          "base_uri": "https://localhost:8080/"
        },
        "id": "EI-tXoTUXnIo",
        "outputId": "bcd6f1b3-f701-48ea-968a-721b525f2f84"
      },
      "execution_count": null,
      "outputs": [
        {
          "output_type": "stream",
          "name": "stdout",
          "text": [
            "[[[0.02884694 0.79054888 0.48823597 0.21219531]\n",
            "  [0.10631308 0.27632268 0.87335831 0.8550707 ]\n",
            "  [0.58304664 0.94284911 0.52921281 0.09578812]]\n",
            "\n",
            " [[0.53411119 0.66242921 0.21916948 0.5756071 ]\n",
            "  [0.48832126 0.69128328 0.1202401  0.75804245]\n",
            "  [0.85891618 0.22809772 0.24107186 0.6645857 ]]]\n"
          ]
        },
        {
          "output_type": "execute_result",
          "data": {
            "text/plain": [
              "array([[[0.02884694, 0.79054888, 0.48823597, 0.21219531],\n",
              "        [0.10631308, 0.27632268, 0.87335831, 0.8550707 ],\n",
              "        [0.58304664, 0.94284911, 0.52921281, 0.09578812]],\n",
              "\n",
              "       [[0.53411119, 0.66242921, 0.21916948, 0.5756071 ],\n",
              "        [0.48832126, 0.69128328, 0.1202401 , 0.75804245],\n",
              "        [0.85891618, 0.22809772, 0.24107186, 0.6645857 ]]])"
            ]
          },
          "metadata": {},
          "execution_count": 10
        }
      ]
    },
    {
      "cell_type": "markdown",
      "source": [
        "# TENSORS\n",
        "\n",
        "same as numpy but more powerfull designed for deep learning\n",
        "default type is float32"
      ],
      "metadata": {
        "id": "-kHHcXcwBjiE"
      }
    },
    {
      "cell_type": "code",
      "source": [
        "tensor_2d = torch.randn(2,3,4)\n",
        "print(tensor_2d)\n",
        "tensor_2d.dtype\n",
        "\n",
        "# tensor_2d = np1\n",
        "# tensor_2d.dtype\n"
      ],
      "metadata": {
        "colab": {
          "base_uri": "https://localhost:8080/"
        },
        "id": "dS1CUPqTB2Ei",
        "outputId": "00f1f60f-f663-452b-d02e-e0d3eb7330cc"
      },
      "execution_count": null,
      "outputs": [
        {
          "output_type": "stream",
          "name": "stdout",
          "text": [
            "tensor([[[-0.1544, -0.1971,  0.9030, -1.1673],\n",
            "         [ 0.1885, -0.3835, -0.0409,  0.7117],\n",
            "         [-0.0023,  1.2633, -0.4671,  2.2066]],\n",
            "\n",
            "        [[-1.9265,  0.4477, -0.3338,  0.1116],\n",
            "         [ 1.0127, -0.0245,  0.6286,  0.1151],\n",
            "         [-0.6101, -0.1693,  1.1315, -0.5473]]])\n"
          ]
        },
        {
          "output_type": "execute_result",
          "data": {
            "text/plain": [
              "torch.float32"
            ]
          },
          "metadata": {},
          "execution_count": 12
        }
      ]
    },
    {
      "cell_type": "code",
      "source": [
        "# Reshape and View\n",
        "my_torch = torch.arange(15)\n",
        "my_torch"
      ],
      "metadata": {
        "colab": {
          "base_uri": "https://localhost:8080/"
        },
        "id": "5uboXL_GXgTH",
        "outputId": "c4e0623a-943f-4fa3-d446-13b323f18e4c"
      },
      "execution_count": null,
      "outputs": [
        {
          "output_type": "execute_result",
          "data": {
            "text/plain": [
              "tensor([ 0,  1,  2,  3,  4,  5,  6,  7,  8,  9, 10, 11, 12, 13, 14])"
            ]
          },
          "metadata": {},
          "execution_count": 20
        }
      ]
    },
    {
      "cell_type": "code",
      "source": [
        "# my_torch = my_torch.reshape(2,5)\n",
        "# my_torch\n",
        "\n",
        "my_torch = my_torch.reshape(-1)   #reshaping to 1 rwo without knowing how many collumns\n",
        "my_torch\n",
        "\n",
        "# my_torch = my_torch.reshape(2,-1) # reshaping to 2 rows without knowing number of collumns\n",
        "# my_torch\n",
        "\n",
        "my_torch = my_torch.reshape(3,-1) # cant reshape 2 rows and the elements are 15\n",
        "my_torch\n",
        "\n",
        "my_torch = my_torch.reshape(-1,5)"
      ],
      "metadata": {
        "colab": {
          "base_uri": "https://localhost:8080/"
        },
        "id": "yj--EdBDZA7F",
        "outputId": "e8d19e8d-0814-4993-8ee4-65a1785850db"
      },
      "execution_count": null,
      "outputs": [
        {
          "output_type": "execute_result",
          "data": {
            "text/plain": [
              "tensor([[ 0,  1,  2,  3,  4],\n",
              "        [ 5,  6,  7,  8,  9],\n",
              "        [10, 11, 12, 13, 14]])"
            ]
          },
          "metadata": {},
          "execution_count": 23
        }
      ]
    },
    {
      "cell_type": "markdown",
      "source": [
        "# MATH OPERATIONS"
      ],
      "metadata": {
        "id": "6hPtZ0ktePKr"
      }
    },
    {
      "cell_type": "code",
      "source": [
        "tensor_a = torch.tensor([1,2,3,4,5])    # each item with the other array item 1 + 6\n",
        "tensor_b = torch.tensor([6,7,8,9,1])\n",
        "\n",
        "tensor_a + tensor_b\n",
        "torch.add(tensor_a, tensor_b)\n",
        "torch.sub(tensor_b, tensor_a)\n",
        "\n",
        "torch.mul(tensor_a,tensor_b)\n",
        "torch.div(tensor_a,tensor_b)\n",
        "\n",
        "torch.remainder(tensor_a, tensor_b)\n",
        "\n",
        "torch.pow(tensor_a,tensor_b)\n",
        "\n",
        "tensor_a.add_(tensor_b)     # adds tensor_b to tensor_a"
      ],
      "metadata": {
        "colab": {
          "base_uri": "https://localhost:8080/"
        },
        "id": "cG0GFJ9VZQPo",
        "outputId": "d02d169d-7258-4795-9944-8c9c58cadc91"
      },
      "execution_count": null,
      "outputs": [
        {
          "output_type": "execute_result",
          "data": {
            "text/plain": [
              "tensor([     1,    128,   6561, 262144,      5])"
            ]
          },
          "metadata": {},
          "execution_count": 28
        }
      ]
    },
    {
      "cell_type": "markdown",
      "source": [
        "# SIMPLE NEURAL NETWORK"
      ],
      "metadata": {
        "id": "FX1t-Z4Dgtfc"
      }
    },
    {
      "cell_type": "code",
      "source": [
        "import torch.nn as nn\n",
        "import torch.nn.functional as F"
      ],
      "metadata": {
        "id": "-Cy08E_Rg3Vx"
      },
      "execution_count": null,
      "outputs": []
    },
    {
      "cell_type": "code",
      "source": [
        "# create a model class that inherits nn.Module\n",
        "class Model(nn.Module):\n",
        "  # input layeer(4 features of the flower)-->\n",
        "  # Hidden layer1 (number of neurons) -->\n",
        "  # H2(n) -->\n",
        "  # output(3 classes of iris flowers )\n",
        "  def __init__(self, input_layer=4, h1=8, h2=9, output_layer=3 ): #4 input for the features ,,, 3 output for the different outputs\n",
        "    super().__init__()    # initiate nn.Module\n",
        "    self.fc1 = nn.Linear(input_layer, h1)   #to connect the linear layers with each other\n",
        "    self.fc2 = nn.Linear(h1, h2)\n",
        "    self.out = nn.Linear(h2, output_layer)\n",
        "\n",
        "  def forward(self, x):\n",
        "    x = F.relu(self.fc1(x))\n",
        "    x = F.relu(self.fc2(x))\n",
        "    x = self.out(x)\n",
        "\n",
        "    return x\n"
      ],
      "metadata": {
        "id": "y-ttSIc_hNsn"
      },
      "execution_count": null,
      "outputs": []
    },
    {
      "cell_type": "code",
      "source": [
        "# start with a random number\n",
        "torch.manual_seed(41)\n",
        "\n",
        "#create an object of model\n",
        "model = Model()"
      ],
      "metadata": {
        "id": "TInNkHrjnD7_"
      },
      "execution_count": null,
      "outputs": []
    }
  ]
}